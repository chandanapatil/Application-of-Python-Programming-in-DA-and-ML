{
  "nbformat": 4,
  "nbformat_minor": 0,
  "metadata": {
    "colab": {
      "name": "Day1 session1 Exercises.ipynb",
      "provenance": [],
      "authorship_tag": "ABX9TyMMlDT3dbFXKg5TW1FjGSUL",
      "include_colab_link": true
    },
    "kernelspec": {
      "name": "python3",
      "display_name": "Python 3"
    }
  },
  "cells": [
    {
      "cell_type": "markdown",
      "metadata": {
        "id": "view-in-github",
        "colab_type": "text"
      },
      "source": [
        "<a href=\"https://colab.research.google.com/github/chandanapatil/Application-of-Python-Programming-in-DA-and-ML/blob/master/Day1_session1_Exercises.ipynb\" target=\"_parent\"><img src=\"https://colab.research.google.com/assets/colab-badge.svg\" alt=\"Open In Colab\"/></a>"
      ]
    },
    {
      "cell_type": "code",
      "metadata": {
        "id": "xCxv83pYbKMz",
        "colab_type": "code",
        "colab": {}
      },
      "source": [
        ""
      ],
      "execution_count": 0,
      "outputs": []
    },
    {
      "cell_type": "markdown",
      "metadata": {
        "id": "KaT1ftXBbfLr",
        "colab_type": "text"
      },
      "source": [
        "1.\tFind the compound interest for the given p,n,r  (formula : p(1+n*r/100)n )"
      ]
    },
    {
      "cell_type": "code",
      "metadata": {
        "id": "SoB7IbisbsDo",
        "colab_type": "code",
        "colab": {
          "base_uri": "https://localhost:8080/",
          "height": 84
        },
        "outputId": "9f5756e7-4a26-498d-e654-293a90c2ff38"
      },
      "source": [
        "p=int(input(\"enter p : \"))\n",
        "n=int(input(\"enter n: \"))\n",
        "r=int(input(\"enter r: \"))\n",
        "CI = p * (pow((1 + r / 100), n))\n",
        "print(\"Compound interest is : %.2f \"%CI)"
      ],
      "execution_count": 2,
      "outputs": [
        {
          "output_type": "stream",
          "text": [
            "enter p : 6\n",
            "enter n: 9\n",
            "enter r: 3\n",
            "Compound interest is : 7.83 \n"
          ],
          "name": "stdout"
        }
      ]
    },
    {
      "cell_type": "markdown",
      "metadata": {
        "id": "8_gFkx2KcM1S",
        "colab_type": "text"
      },
      "source": [
        "2.\tConvert centegrade to farenheit  ( f= 9/5*c+32)"
      ]
    },
    {
      "cell_type": "code",
      "metadata": {
        "id": "ZN_sGI96cUkc",
        "colab_type": "code",
        "colab": {
          "base_uri": "https://localhost:8080/",
          "height": 50
        },
        "outputId": "e97ad37d-d081-4c22-8e6b-97a1071f8e56"
      },
      "source": [
        "c=float(input(\"Enter c :\"))\n",
        "f=9/5*c+32 \n",
        "print(\"value of f is :\",f)"
      ],
      "execution_count": 3,
      "outputs": [
        {
          "output_type": "stream",
          "text": [
            "Enter c :35\n",
            "value of f is : 95.0\n"
          ],
          "name": "stdout"
        }
      ]
    },
    {
      "cell_type": "markdown",
      "metadata": {
        "id": "djZYPtJocfdI",
        "colab_type": "text"
      },
      "source": [
        "3.\tFind the greater of two nos "
      ]
    },
    {
      "cell_type": "code",
      "metadata": {
        "id": "Obn5ZAhwcjWu",
        "colab_type": "code",
        "colab": {
          "base_uri": "https://localhost:8080/",
          "height": 67
        },
        "outputId": "37d2bf44-819f-4b9e-cbf1-0d74179d61a7"
      },
      "source": [
        "a=int(input(\"Enter a :\"))\n",
        "b=int(input(\"Enter b :\"))\n",
        "if(a>b):\n",
        "  print(\"a is greater\",a)\n",
        "else:\n",
        "  print(\"b is greater\",b)"
      ],
      "execution_count": 4,
      "outputs": [
        {
          "output_type": "stream",
          "text": [
            "Enter a :36\n",
            "Enter b :26\n",
            "a is greater 36\n"
          ],
          "name": "stdout"
        }
      ]
    },
    {
      "cell_type": "markdown",
      "metadata": {
        "id": "pbIQ5h-7csLp",
        "colab_type": "text"
      },
      "source": [
        "4.\tWrite a program for finding surface areas of cylinder and cone (2*PI*r*r*h, 1/3*PI*r*r*h) using function."
      ]
    },
    {
      "cell_type": "code",
      "metadata": {
        "id": "zcJaT9g5cwLi",
        "colab_type": "code",
        "colab": {
          "base_uri": "https://localhost:8080/",
          "height": 84
        },
        "outputId": "92292d1c-6c43-408e-bb20-7b478c6476a3"
      },
      "source": [
        "import math\n",
        "def cylinder(r,h):\n",
        "  areacy=2*math.pi*r*r*h\n",
        "  return areacy\n",
        "def cone(r,h):\n",
        "  areacone=1/3*math.pi*r*r*h\n",
        "  return areacone\n",
        "r=int(input(\"Enter r \"))\n",
        "h=int(input(\"Enter h \"))\n",
        "print(\"ARea of cylinder is : %.2f\"%cylinder(r,h))\n",
        "print(\"Area of cone : %.2f\"%cone(r,h))"
      ],
      "execution_count": 5,
      "outputs": [
        {
          "output_type": "stream",
          "text": [
            "Enter r 4\n",
            "Enter h 9\n",
            "ARea of cylinder is : 904.78\n",
            "Area of cone : 150.80\n"
          ],
          "name": "stdout"
        }
      ]
    },
    {
      "cell_type": "markdown",
      "metadata": {
        "id": "RkMFLet2c7YJ",
        "colab_type": "text"
      },
      "source": [
        "5.\tFind the greatest of four nos ( using ‘and’ operator)   using function."
      ]
    },
    {
      "cell_type": "code",
      "metadata": {
        "id": "irD2RL5nc_Og",
        "colab_type": "code",
        "colab": {
          "base_uri": "https://localhost:8080/",
          "height": 101
        },
        "outputId": "10f28794-e966-4b19-afde-0f67d2bde481"
      },
      "source": [
        "def great(a,b,c,d):\n",
        "  if(a>b) and (a>c) and (a>d):\n",
        "    return a\n",
        "  elif(b>a) and (b>c) and (b>d):\n",
        "    return b\n",
        "  elif(c>a) and (c>b) and (c>d):\n",
        "    return c\n",
        "  else:\n",
        "    return d\n",
        "a=int(input(\"enter values a \"))\n",
        "b=int(input(\"enter values b \"))\n",
        "c=int(input(\"enter values c \"))\n",
        "d=int(input(\"enter values d \"))\n",
        "print(\"greater number is \",great(a,b,c,d))"
      ],
      "execution_count": 6,
      "outputs": [
        {
          "output_type": "stream",
          "text": [
            "enter values a 5\n",
            "enter values b 7\n",
            "enter values c 2\n",
            "enter values d 8\n",
            "greater number is  8\n"
          ],
          "name": "stdout"
        }
      ]
    },
    {
      "cell_type": "markdown",
      "metadata": {
        "id": "49VLzcnDdIgg",
        "colab_type": "text"
      },
      "source": [
        "6.\tWrite a  menu program to perform the operations ( ODDorEven, Factorial, ODDNoUptoN, PrimeUptoN ) using functions for two nos with  menu choice\n",
        "\n",
        "\n",
        "\n"
      ]
    },
    {
      "cell_type": "code",
      "metadata": {
        "id": "rG_huY_6dL9b",
        "colab_type": "code",
        "colab": {
          "base_uri": "https://localhost:8080/",
          "height": 1000
        },
        "outputId": "16f255a6-7cdc-4bb0-e9a1-5cc3dc36fab3"
      },
      "source": [
        "loop = 1\n",
        "choice = 0\n",
        "\n",
        "def oddoreven(a):\n",
        "  if(a%2==0):\n",
        "    print(\"even\")\n",
        "  else:\n",
        "    print(\"odd\")\n",
        "def fact(num):\n",
        "  factorial=1 \n",
        "  if  num  <  0:\n",
        "    print(\"Sorry, factorial does not exist for negative numbers\") \n",
        "  elif  num  ==  0:\n",
        "    print(\"The factorial of 0 is 1\") \n",
        "  else:\n",
        "    for i in range(1,num + 1): \n",
        "      factorial = factorial*i\n",
        "    print(\"The factorial of\",num,\"is\",factorial) \n",
        "def odd(n):\n",
        "  print(\"odd numbers: \");\n",
        "  for i in range(1,n+1):\n",
        "    if(i%2!=0):\n",
        "      print(i) \n",
        "def  prime(l,h):\n",
        "  print(\"prime numbers: \")\n",
        "  for num in range(l,h + 1): \n",
        "    if  num  >  1:\n",
        "      for i in range(2,num):\n",
        "        if  (num  %  i)  ==  0:\n",
        "          break\n",
        "      else:\n",
        "        print(num)\n",
        "\n",
        "while  loop  ==  1:\n",
        "  print (\"Welcome\")\n",
        "  print (\"your options are:\")\n",
        "  print (\"\")\n",
        "  print(\"1) odd or even\")\n",
        "  print(\"2) factorial\")\n",
        "  print(\"3) odd upto n\")\n",
        "  print(\"4) prime upto n\") \n",
        "  print(\"5) Quit \")\n",
        "  print(\"\") \n",
        "  try:\n",
        "    choice = int(input(\"Choose your option: \")) \n",
        "  except:\n",
        "    print('please enter a valid number for option')\n",
        "    print(\"\")\n",
        "  print(\"\")\n",
        "  if  choice  ==  1:\n",
        "    x  = int(input(\" Enter\tno: \"))\n",
        "    oddoreven(x)\n",
        "  elif  choice  ==  2:\n",
        "    x = int(input(\"Enter\tno: \")) \n",
        "    fact(x)\n",
        "  elif  choice  ==  3:\n",
        "    x = int(input(\"Enter range: \"))\n",
        "    odd(x)\n",
        "  elif  choice  ==  4:\n",
        "    x = int(input(\"Enter lower range: \"))  \n",
        "    y = int(input(\"Enter upper range: \")) \n",
        "    prime(x,y)\n",
        "  elif  choice  ==  5: \n",
        "    loop = 0\n",
        "  else:\n",
        "    print(\"please choice a valid option from 1 to 5\") \n",
        "    choice=0\n",
        "print (\"Thank-you \")"
      ],
      "execution_count": 7,
      "outputs": [
        {
          "output_type": "stream",
          "text": [
            "Welcome\n",
            "your options are:\n",
            "\n",
            "1) odd or even\n",
            "2) factorial\n",
            "3) odd upto n\n",
            "4) prime upto n\n",
            "5) Quit \n",
            "\n",
            "Choose your option: 1\n",
            "\n",
            " Enter\tno: 4\n",
            "even\n",
            "Welcome\n",
            "your options are:\n",
            "\n",
            "1) odd or even\n",
            "2) factorial\n",
            "3) odd upto n\n",
            "4) prime upto n\n",
            "5) Quit \n",
            "\n",
            "Choose your option: 1\n",
            "\n",
            " Enter\tno: 9\n",
            "odd\n",
            "Welcome\n",
            "your options are:\n",
            "\n",
            "1) odd or even\n",
            "2) factorial\n",
            "3) odd upto n\n",
            "4) prime upto n\n",
            "5) Quit \n",
            "\n",
            "Choose your option: 2\n",
            "\n",
            "Enter\tno: 56\n",
            "The factorial of 56 is 710998587804863451854045647463724949736497978881168458687447040000000000000\n",
            "Welcome\n",
            "your options are:\n",
            "\n",
            "1) odd or even\n",
            "2) factorial\n",
            "3) odd upto n\n",
            "4) prime upto n\n",
            "5) Quit \n",
            "\n",
            "Choose your option: 3\n",
            "\n",
            "Enter range: 21\n",
            "odd numbers: \n",
            "1\n",
            "3\n",
            "5\n",
            "7\n",
            "9\n",
            "11\n",
            "13\n",
            "15\n",
            "17\n",
            "19\n",
            "21\n",
            "Welcome\n",
            "your options are:\n",
            "\n",
            "1) odd or even\n",
            "2) factorial\n",
            "3) odd upto n\n",
            "4) prime upto n\n",
            "5) Quit \n",
            "\n",
            "Choose your option: 4\n",
            "\n",
            "Enter lower range: 10\n",
            "Enter upper range: 15\n",
            "prime numbers: \n",
            "11\n",
            "13\n",
            "Welcome\n",
            "your options are:\n",
            "\n",
            "1) odd or even\n",
            "2) factorial\n",
            "3) odd upto n\n",
            "4) prime upto n\n",
            "5) Quit \n",
            "\n",
            "Choose your option: 5\n",
            "\n",
            "Thank-you \n"
          ],
          "name": "stdout"
        }
      ]
    }
  ]
}