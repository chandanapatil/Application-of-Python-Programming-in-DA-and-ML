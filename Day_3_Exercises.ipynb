{
  "nbformat": 4,
  "nbformat_minor": 0,
  "metadata": {
    "colab": {
      "name": "Day 3 Exercises.ipynb",
      "provenance": [],
      "collapsed_sections": [],
      "toc_visible": true,
      "include_colab_link": true
    },
    "kernelspec": {
      "name": "python3",
      "display_name": "Python 3"
    }
  },
  "cells": [
    {
      "cell_type": "markdown",
      "metadata": {
        "id": "view-in-github",
        "colab_type": "text"
      },
      "source": [
        "<a href=\"https://colab.research.google.com/github/chandanapatil/Application-of-Python-Programming-in-DA-and-ML/blob/master/Day_3_Exercises.ipynb\" target=\"_parent\"><img src=\"https://colab.research.google.com/assets/colab-badge.svg\" alt=\"Open In Colab\"/></a>"
      ]
    },
    {
      "cell_type": "markdown",
      "metadata": {
        "id": "s03pfp_mfEk4",
        "colab_type": "text"
      },
      "source": [
        "#1 Write a Pandas program to create and display a one-dimensional array using series  containing  event numbers upto 10000"
      ]
    },
    {
      "cell_type": "code",
      "metadata": {
        "id": "Ur1u4S8_eq91",
        "colab_type": "code",
        "colab": {
          "base_uri": "https://localhost:8080/",
          "height": 225
        },
        "outputId": "cdfca0a0-7940-4c47-a480-3698ac778416"
      },
      "source": [
        "import pandas as pd\n",
        "import numpy as np\n",
        "pd.Series([i for i in range(1,1000) if i%2==0])\n"
      ],
      "execution_count": null,
      "outputs": [
        {
          "output_type": "execute_result",
          "data": {
            "text/plain": [
              "0        2\n",
              "1        4\n",
              "2        6\n",
              "3        8\n",
              "4       10\n",
              "      ... \n",
              "494    990\n",
              "495    992\n",
              "496    994\n",
              "497    996\n",
              "498    998\n",
              "Length: 499, dtype: int64"
            ]
          },
          "metadata": {
            "tags": []
          },
          "execution_count": 20
        }
      ]
    },
    {
      "cell_type": "markdown",
      "metadata": {
        "id": "agF8eaI4iplF",
        "colab_type": "text"
      },
      "source": [
        "#2 Write a Pandas program to convert a Panda module Series of the numbers which are between 1000 and 2000 (both inclusive) and divisable by 5 to Python list and  after convertion print its type "
      ]
    },
    {
      "cell_type": "code",
      "metadata": {
        "id": "66PKKS-8fw-9",
        "colab_type": "code",
        "colab": {
          "base_uri": "https://localhost:8080/",
          "height": 332
        },
        "outputId": "fa5b2974-0bfa-42af-e87d-f03eba948d27"
      },
      "source": [
        "l1=pd.Series([i for i in range(1000,2001) if i%5==0])\n",
        "print(\"Pandas Series and type\")\n",
        "print(l1)\n",
        "print(\"Convert Pandas Series to Python list\")\n",
        "print(l1.tolist())\n",
        "print(type(l1.tolist()))\n",
        "print(type(l1))\n"
      ],
      "execution_count": null,
      "outputs": [
        {
          "output_type": "stream",
          "text": [
            "Pandas Series and type\n",
            "0      1000\n",
            "1      1005\n",
            "2      1010\n",
            "3      1015\n",
            "4      1020\n",
            "       ... \n",
            "196    1980\n",
            "197    1985\n",
            "198    1990\n",
            "199    1995\n",
            "200    2000\n",
            "Length: 201, dtype: int64\n",
            "Convert Pandas Series to Python list\n",
            "[1000, 1005, 1010, 1015, 1020, 1025, 1030, 1035, 1040, 1045, 1050, 1055, 1060, 1065, 1070, 1075, 1080, 1085, 1090, 1095, 1100, 1105, 1110, 1115, 1120, 1125, 1130, 1135, 1140, 1145, 1150, 1155, 1160, 1165, 1170, 1175, 1180, 1185, 1190, 1195, 1200, 1205, 1210, 1215, 1220, 1225, 1230, 1235, 1240, 1245, 1250, 1255, 1260, 1265, 1270, 1275, 1280, 1285, 1290, 1295, 1300, 1305, 1310, 1315, 1320, 1325, 1330, 1335, 1340, 1345, 1350, 1355, 1360, 1365, 1370, 1375, 1380, 1385, 1390, 1395, 1400, 1405, 1410, 1415, 1420, 1425, 1430, 1435, 1440, 1445, 1450, 1455, 1460, 1465, 1470, 1475, 1480, 1485, 1490, 1495, 1500, 1505, 1510, 1515, 1520, 1525, 1530, 1535, 1540, 1545, 1550, 1555, 1560, 1565, 1570, 1575, 1580, 1585, 1590, 1595, 1600, 1605, 1610, 1615, 1620, 1625, 1630, 1635, 1640, 1645, 1650, 1655, 1660, 1665, 1670, 1675, 1680, 1685, 1690, 1695, 1700, 1705, 1710, 1715, 1720, 1725, 1730, 1735, 1740, 1745, 1750, 1755, 1760, 1765, 1770, 1775, 1780, 1785, 1790, 1795, 1800, 1805, 1810, 1815, 1820, 1825, 1830, 1835, 1840, 1845, 1850, 1855, 1860, 1865, 1870, 1875, 1880, 1885, 1890, 1895, 1900, 1905, 1910, 1915, 1920, 1925, 1930, 1935, 1940, 1945, 1950, 1955, 1960, 1965, 1970, 1975, 1980, 1985, 1990, 1995, 2000]\n",
            "<class 'list'>\n",
            "<class 'pandas.core.series.Series'>\n"
          ],
          "name": "stdout"
        }
      ]
    },
    {
      "cell_type": "markdown",
      "metadata": {
        "id": "H8-4xoX7j3hs",
        "colab_type": "text"
      },
      "source": [
        "#3 Write a Pandas program to add, subtract, multiple and divide two Pandas Series and print their results using the Sample Series: [2, 4, 6, 8, ...100], [1, 3, 5, 7, 9...99]"
      ]
    },
    {
      "cell_type": "code",
      "metadata": {
        "id": "Er8hStyMjt8L",
        "colab_type": "code",
        "colab": {}
      },
      "source": [
        "ds1=pd.Series([i for i in range(1,101) if i%2==0])\n",
        "ds2=pd.Series([i for i in range(1,101) if i%2!=0])\n",
        "ds = ds1 + ds2\n",
        "print(\"Add two Series:\")\n",
        "print(ds)\n",
        "print(\"Subtract two Series:\")\n",
        "ds = ds1 - ds2\n",
        "print(ds)\n",
        "print(\"Multiply two Series:\")\n",
        "ds = ds1 * ds2\n",
        "print(ds)\n",
        "print(\"Divide Series1 by Series2:\")\n",
        "ds = ds1 / ds2\n",
        "print(ds)\n"
      ],
      "execution_count": null,
      "outputs": []
    },
    {
      "cell_type": "markdown",
      "metadata": {
        "id": "BkouY8HRlkAF",
        "colab_type": "text"
      },
      "source": [
        "#4 Write a Pandas program to compare (Equivalence, greater than, less than, not equal to )the elements of the two Pandas Series.\n",
        "Sample Series: [All positive numbers divisable by 7 upto 1000], [All positive numbers divisable by 11 upto 1000]\n"
      ]
    },
    {
      "cell_type": "code",
      "metadata": {
        "id": "JxHH5UxHlUSa",
        "colab_type": "code",
        "colab": {}
      },
      "source": [
        "ds1=([i for i in range(1,1000) if i%7==0])\n",
        "pd1=pd.Series(ds1)\n",
        "ds2=([i for i in range(1,1000) if i%11==0])\n",
        "pd2=pd.Series(ds2)\n",
        "print(\"Series1:\")\n",
        "print(pd1)\n",
        "print(\"Series2:\")\n",
        "print(pd2)\n",
        "print(\"Compare the elements of the said Series:\")\n",
        "print(\"Equals:\")\n",
        "for i in range (len(ds2)):\n",
        "  print(i,\" \",pd1[i]==pd2[i])\n",
        "print(\"Greater than:\")\n",
        "for i in range(len(ds2)):\n",
        "  print(i,\" \",pd1[i]>pd2[i])\n",
        "print(\"Less than:\")\n",
        "for i in range(len(ds2)):\n",
        "  print(i,\" \",pd1[i]<pd2[i])"
      ],
      "execution_count": null,
      "outputs": []
    },
    {
      "cell_type": "markdown",
      "metadata": {
        "id": "9j0gP-cyrSpz",
        "colab_type": "text"
      },
      "source": [
        "#5 Write a Pandas program to convert a NumPy array to a Pandas series. \n",
        "Sample NumPy array: d1 = [10, 20, 30, 40, 50... 1000]\n"
      ]
    },
    {
      "cell_type": "code",
      "metadata": {
        "id": "z8Z310iCmEoK",
        "colab_type": "code",
        "colab": {
          "base_uri": "https://localhost:8080/",
          "height": 399
        },
        "outputId": "e3a9ef0c-d0b6-4183-9815-39a6a606800d"
      },
      "source": [
        "import numpy as np\n",
        "n1=np.array([i for i in range(10,1001) if i%10==0])\n",
        "print(\"Numpy series\")\n",
        "print(n1)\n",
        "p1= pd.Series(n1)\n",
        "print(\"Converted Pandas series:\")\n",
        "print(p1)"
      ],
      "execution_count": null,
      "outputs": [
        {
          "output_type": "stream",
          "text": [
            "Numpy series\n",
            "[  10   20   30   40   50   60   70   80   90  100  110  120  130  140\n",
            "  150  160  170  180  190  200  210  220  230  240  250  260  270  280\n",
            "  290  300  310  320  330  340  350  360  370  380  390  400  410  420\n",
            "  430  440  450  460  470  480  490  500  510  520  530  540  550  560\n",
            "  570  580  590  600  610  620  630  640  650  660  670  680  690  700\n",
            "  710  720  730  740  750  760  770  780  790  800  810  820  830  840\n",
            "  850  860  870  880  890  900  910  920  930  940  950  960  970  980\n",
            "  990 1000]\n",
            "Converted Pandas series:\n",
            "0       10\n",
            "1       20\n",
            "2       30\n",
            "3       40\n",
            "4       50\n",
            "      ... \n",
            "95     960\n",
            "96     970\n",
            "97     980\n",
            "98     990\n",
            "99    1000\n",
            "Length: 100, dtype: int64\n"
          ],
          "name": "stdout"
        }
      ]
    },
    {
      "cell_type": "markdown",
      "metadata": {
        "id": "AAqXjSVsvNX7",
        "colab_type": "text"
      },
      "source": [
        "#6 Write a Pandas program to convert a given Series to an array.\n",
        "Sample series is ['100', '200', ‘300’,’400’,’500’,'python', '300.12', '400',’is’,’great’,’language’]\n"
      ]
    },
    {
      "cell_type": "code",
      "metadata": {
        "id": "xKBUJKUrnS6b",
        "colab_type": "code",
        "colab": {
          "base_uri": "https://localhost:8080/",
          "height": 260
        },
        "outputId": "891a9f38-581a-4121-884f-4c6d62752b20"
      },
      "source": [
        "s1=pd.Series(['100', '200', '300','400','500','python', '300.12', '400','is','great','language'])\n",
        "print(s1)\n",
        "a = np.array(s1.values.tolist())\n",
        "print (a)"
      ],
      "execution_count": null,
      "outputs": [
        {
          "output_type": "stream",
          "text": [
            "0          100\n",
            "1          200\n",
            "2          300\n",
            "3          400\n",
            "4          500\n",
            "5       python\n",
            "6       300.12\n",
            "7          400\n",
            "8           is\n",
            "9        great\n",
            "10    language\n",
            "dtype: object\n",
            "['100' '200' '300' '400' '500' 'python' '300.12' '400' 'is' 'great'\n",
            " 'language']\n"
          ],
          "name": "stdout"
        }
      ]
    },
    {
      "cell_type": "markdown",
      "metadata": {
        "id": "Vb3I8SXhwwaN",
        "colab_type": "text"
      },
      "source": [
        "#7 Write a Pandas program to sort a given Series.\n",
        "Sample series is ['100', '200', ‘300’,’400’,’500’,'python', '300.12', '400',’is’,’great’,’language’]\n"
      ]
    },
    {
      "cell_type": "code",
      "metadata": {
        "id": "nZT0wEACvjUb",
        "colab_type": "code",
        "colab": {
          "base_uri": "https://localhost:8080/",
          "height": 225
        },
        "outputId": "c6ce2ef5-305f-4f1d-e99b-993b57ceb377"
      },
      "source": [
        "s1=pd.Series(['100', '200', '300','400','500','python', '300.12', '400','is','great','language'])\n",
        "print(s1)\n",
        "s2=pd.Series(s1).sort_values()"
      ],
      "execution_count": null,
      "outputs": [
        {
          "output_type": "stream",
          "text": [
            "0          100\n",
            "1          200\n",
            "2          300\n",
            "3          400\n",
            "4          500\n",
            "5       python\n",
            "6       300.12\n",
            "7          400\n",
            "8           is\n",
            "9        great\n",
            "10    language\n",
            "dtype: object\n"
          ],
          "name": "stdout"
        }
      ]
    },
    {
      "cell_type": "markdown",
      "metadata": {
        "id": "siRX0SXZ0rd6",
        "colab_type": "text"
      },
      "source": [
        "#8 Write a Pandas program to create a subsets of a given series based on value and condition.\n",
        "Sample NumPy array: d1 = [10, 20, 30, 40, 50... 1000]\n",
        "value and condtion :  Subset 1 :numbers divisable by 7  Subset 2 : numbers divisable by 5\n"
      ]
    },
    {
      "cell_type": "code",
      "metadata": {
        "id": "f3VWh-fNyY9w",
        "colab_type": "code",
        "colab": {
          "base_uri": "https://localhost:8080/",
          "height": 763
        },
        "outputId": "1c410197-a593-4d89-b612-bcde674f0e21"
      },
      "source": [
        "import pandas as pd\n",
        "l1=([i for i in range(0,1001) if i%10==0])\n",
        "s = pd.Series(l1)\n",
        "print(\"Original Data Series:\")\n",
        "print(s)\n",
        "print(\"\\nSubset of the above Data Series:\")\n",
        "n=7\n",
        "n1= s[s%n==0]\n",
        "print(n1)\n",
        "n=5\n",
        "n1 = s[s%n==0]\n",
        "print(n1)"
      ],
      "execution_count": null,
      "outputs": [
        {
          "output_type": "stream",
          "text": [
            "Original Data Series:\n",
            "0         0\n",
            "1        10\n",
            "2        20\n",
            "3        30\n",
            "4        40\n",
            "       ... \n",
            "96      960\n",
            "97      970\n",
            "98      980\n",
            "99      990\n",
            "100    1000\n",
            "Length: 101, dtype: int64\n",
            "\n",
            "Subset of the above Data Series:\n",
            "0       0\n",
            "7      70\n",
            "14    140\n",
            "21    210\n",
            "28    280\n",
            "35    350\n",
            "42    420\n",
            "49    490\n",
            "56    560\n",
            "63    630\n",
            "70    700\n",
            "77    770\n",
            "84    840\n",
            "91    910\n",
            "98    980\n",
            "dtype: int64\n",
            "0         0\n",
            "1        10\n",
            "2        20\n",
            "3        30\n",
            "4        40\n",
            "       ... \n",
            "96      960\n",
            "97      970\n",
            "98      980\n",
            "99      990\n",
            "100    1000\n",
            "Length: 101, dtype: int64\n"
          ],
          "name": "stdout"
        }
      ]
    },
    {
      "cell_type": "markdown",
      "metadata": {
        "id": "2qMgmUfx1SnN",
        "colab_type": "text"
      },
      "source": [
        "#9 Write a Pandas program to create the mean and standard deviation, maximum and minimum of the data of a given Series of the prime numbers upto 1000"
      ]
    },
    {
      "cell_type": "code",
      "metadata": {
        "id": "Frq1I6nD1H7a",
        "colab_type": "code",
        "colab": {
          "base_uri": "https://localhost:8080/",
          "height": 312
        },
        "outputId": "f045a471-4709-4883-c73c-6858198e3b4d"
      },
      "source": [
        "import pandas as pd\n",
        "l=[]\n",
        "for val in range(0,1001):\n",
        "  if val > 1: \n",
        "        for n in range(2, val//2 + 2): \n",
        "            if (val % n) == 0: \n",
        "                break\n",
        "            else: \n",
        "                if n == val//2 + 1: \n",
        "                    l.append(val)\n",
        "s = pd.Series(data = l)\n",
        "print(\"Original Data Series:\")\n",
        "print(s)\n",
        "print(\"Mean of the said Data Series:\")\n",
        "print(s.mean())\n",
        "print(\"Standard deviation of the said Data Series:\")\n",
        "print(s.std())"
      ],
      "execution_count": null,
      "outputs": [
        {
          "output_type": "stream",
          "text": [
            "Original Data Series:\n",
            "0        3\n",
            "1        5\n",
            "2        7\n",
            "3       11\n",
            "4       13\n",
            "      ... \n",
            "162    971\n",
            "163    977\n",
            "164    983\n",
            "165    991\n",
            "166    997\n",
            "Length: 167, dtype: int64\n",
            "Mean of the said Data Series:\n",
            "455.8383233532934\n",
            "Standard deviation of the said Data Series:\n",
            "297.0201672063572\n"
          ],
          "name": "stdout"
        }
      ]
    },
    {
      "cell_type": "markdown",
      "metadata": {
        "id": "1CFFll9d2C74",
        "colab_type": "text"
      },
      "source": [
        "#10 Write a Pandas program to get the elements of an array values into column-wise.\n",
        "Sample data: {‘X’:[All odd numbers but not divisable by 7 upto 1000], 'Y':[ All even numbers but not divisable by 5 upto 1000 ],'Z':[ All odd numbers but not divisable by 3 upto 1000]}\n"
      ]
    },
    {
      "cell_type": "code",
      "metadata": {
        "id": "EHUXgnvY2BSJ",
        "colab_type": "code",
        "colab": {
          "base_uri": "https://localhost:8080/",
          "height": 277
        },
        "outputId": "9ff1f8f2-72c3-46aa-d924-a07a127ab521"
      },
      "source": [
        "import pandas as pd\n",
        "l1=([i for i in range(0,1001) if i%7!=0 and i%2!=0])\n",
        "p1=pd.Series(l1)\n",
        "l2=([i for i in range(0,1001) if i%2==0 and i%5!=0])\n",
        "p2=pd.Series(l2)\n",
        "l3=([i for i in range(0,1001) if i%2!=0 and i%3!=0])\n",
        "p3=pd.Series(l3)\n",
        "print(len(l1),len(l2),len(l3))\n",
        "for i in range(len(l3)):\n",
        "  df = pd.DataFrame({'X':p1, 'Y':p2,'Z':p3})\n",
        "print(df)"
      ],
      "execution_count": null,
      "outputs": [
        {
          "output_type": "stream",
          "text": [
            "429 400 333\n",
            "       X     Y     Z\n",
            "0      1   2.0   1.0\n",
            "1      3   4.0   5.0\n",
            "2      5   6.0   7.0\n",
            "3      9   8.0  11.0\n",
            "4     11  12.0  13.0\n",
            "..   ...   ...   ...\n",
            "424  991   NaN   NaN\n",
            "425  993   NaN   NaN\n",
            "426  995   NaN   NaN\n",
            "427  997   NaN   NaN\n",
            "428  999   NaN   NaN\n",
            "\n",
            "[429 rows x 3 columns]\n"
          ],
          "name": "stdout"
        }
      ]
    },
    {
      "cell_type": "markdown",
      "metadata": {
        "id": "FRiBCh8272NS",
        "colab_type": "text"
      },
      "source": [
        "\n",
        "#Write a Pandas program to display the first 10 rows of the DataFrame for any particular three fields.\n"
      ]
    },
    {
      "cell_type": "code",
      "metadata": {
        "id": "1zRhvbHQ3RND",
        "colab_type": "code",
        "colab": {
          "base_uri": "https://localhost:8080/",
          "height": 360
        },
        "outputId": "dd22c69f-b5cc-43e0-a22b-eeb17c101082"
      },
      "source": [
        "import pandas as pd\n",
        "import numpy as np\n",
        "\n",
        "exam_data  = {'name': ['Apoorva', 'Bhramari', 'Pavitra', 'Rachana', 'Bhavana', 'Sunil', 'Amit', 'Amrutha', 'Kavana', 'Chandana'],\n",
        "        'score': [12.5, 9, 16.5, np.nan, 9, 20, 14.5, np.nan, 8, 19],\n",
        "        'attempts': [1, 3, 2, 3, 2, 3, 1, 1, 2, 1],\n",
        "        'qualify': ['yes', 'no', 'yes', 'no', 'no', 'yes', 'yes', 'no', 'no', 'yes']}\n",
        "labels = ['a', 'b', 'c', 'd', 'e', 'f', 'g', 'h', 'i', 'j']\n",
        "\n",
        "df = pd.DataFrame(exam_data , index=labels)\n",
        "print(\"First three rows of the data frame:\")\n",
        "df1 = df[['name','score','attempts']]\n",
        "df1.head(10)"
      ],
      "execution_count": 2,
      "outputs": [
        {
          "output_type": "stream",
          "text": [
            "First three rows of the data frame:\n"
          ],
          "name": "stdout"
        },
        {
          "output_type": "execute_result",
          "data": {
            "text/html": [
              "<div>\n",
              "<style scoped>\n",
              "    .dataframe tbody tr th:only-of-type {\n",
              "        vertical-align: middle;\n",
              "    }\n",
              "\n",
              "    .dataframe tbody tr th {\n",
              "        vertical-align: top;\n",
              "    }\n",
              "\n",
              "    .dataframe thead th {\n",
              "        text-align: right;\n",
              "    }\n",
              "</style>\n",
              "<table border=\"1\" class=\"dataframe\">\n",
              "  <thead>\n",
              "    <tr style=\"text-align: right;\">\n",
              "      <th></th>\n",
              "      <th>name</th>\n",
              "      <th>score</th>\n",
              "      <th>attempts</th>\n",
              "    </tr>\n",
              "  </thead>\n",
              "  <tbody>\n",
              "    <tr>\n",
              "      <th>a</th>\n",
              "      <td>Apoorva</td>\n",
              "      <td>12.5</td>\n",
              "      <td>1</td>\n",
              "    </tr>\n",
              "    <tr>\n",
              "      <th>b</th>\n",
              "      <td>Bhramari</td>\n",
              "      <td>9.0</td>\n",
              "      <td>3</td>\n",
              "    </tr>\n",
              "    <tr>\n",
              "      <th>c</th>\n",
              "      <td>Pavitra</td>\n",
              "      <td>16.5</td>\n",
              "      <td>2</td>\n",
              "    </tr>\n",
              "    <tr>\n",
              "      <th>d</th>\n",
              "      <td>Rachana</td>\n",
              "      <td>NaN</td>\n",
              "      <td>3</td>\n",
              "    </tr>\n",
              "    <tr>\n",
              "      <th>e</th>\n",
              "      <td>Bhavana</td>\n",
              "      <td>9.0</td>\n",
              "      <td>2</td>\n",
              "    </tr>\n",
              "    <tr>\n",
              "      <th>f</th>\n",
              "      <td>Sunil</td>\n",
              "      <td>20.0</td>\n",
              "      <td>3</td>\n",
              "    </tr>\n",
              "    <tr>\n",
              "      <th>g</th>\n",
              "      <td>Amit</td>\n",
              "      <td>14.5</td>\n",
              "      <td>1</td>\n",
              "    </tr>\n",
              "    <tr>\n",
              "      <th>h</th>\n",
              "      <td>Amrutha</td>\n",
              "      <td>NaN</td>\n",
              "      <td>1</td>\n",
              "    </tr>\n",
              "    <tr>\n",
              "      <th>i</th>\n",
              "      <td>Kavana</td>\n",
              "      <td>8.0</td>\n",
              "      <td>2</td>\n",
              "    </tr>\n",
              "    <tr>\n",
              "      <th>j</th>\n",
              "      <td>Chandana</td>\n",
              "      <td>19.0</td>\n",
              "      <td>1</td>\n",
              "    </tr>\n",
              "  </tbody>\n",
              "</table>\n",
              "</div>"
            ],
            "text/plain": [
              "       name  score  attempts\n",
              "a   Apoorva   12.5         1\n",
              "b  Bhramari    9.0         3\n",
              "c   Pavitra   16.5         2\n",
              "d   Rachana    NaN         3\n",
              "e   Bhavana    9.0         2\n",
              "f     Sunil   20.0         3\n",
              "g      Amit   14.5         1\n",
              "h   Amrutha    NaN         1\n",
              "i    Kavana    8.0         2\n",
              "j  Chandana   19.0         1"
            ]
          },
          "metadata": {
            "tags": []
          },
          "execution_count": 2
        }
      ]
    },
    {
      "cell_type": "markdown",
      "metadata": {
        "id": "mIYpLEub-wlG",
        "colab_type": "text"
      },
      "source": [
        "#Write a Pandas program to get the details of the seventh movie of the DataFrame for any particular three fields #(movie_metadata.csv file)."
      ]
    },
    {
      "cell_type": "code",
      "metadata": {
        "id": "EtStyGDX-uW5",
        "colab_type": "code",
        "colab": {
          "base_uri": "https://localhost:8080/",
          "height": 208
        },
        "outputId": "7f3a8676-8f51-432c-e5f4-ed330cd4411d"
      },
      "source": [
        "import pandas as pd\n",
        "xyz = pd.read_csv('movie_metadata.csv') \n",
        "df = xyz[['language','country','duration']]\n",
        "print(df.head(10))"
      ],
      "execution_count": null,
      "outputs": [
        {
          "output_type": "stream",
          "text": [
            "  language country  duration\n",
            "0  English     USA     178.0\n",
            "1  English     USA     169.0\n",
            "2  English      UK     148.0\n",
            "3  English     USA     164.0\n",
            "4      NaN     NaN       NaN\n",
            "5  English     USA     132.0\n",
            "6  English     USA     156.0\n",
            "7  English     USA     100.0\n",
            "8  English     USA     141.0\n",
            "9  English      UK     153.0\n"
          ],
          "name": "stdout"
        }
      ]
    },
    {
      "cell_type": "markdown",
      "metadata": {
        "id": "VCKkJ88MKtUh",
        "colab_type": "text"
      },
      "source": [
        "#Write a Pandas program to find the mean and standard deviation, maximum and minimum of the data of 50 students Python marks stored in a CSV file called Python_mark.csv( you have to create the file yourself like rollno,mark for 50 records)"
      ]
    },
    {
      "cell_type": "code",
      "metadata": {
        "id": "r6m_ztRm_A9d",
        "colab_type": "code",
        "colab": {
          "base_uri": "https://localhost:8080/",
          "height": 225
        },
        "outputId": "1f9a6b6e-7e34-4ca9-bc27-dfd5b2eff3fa"
      },
      "source": [
        "import pandas as pd\n",
        "df = pd.DataFrame({'roll number':[1,2,3,4,5,6,7,8,9,10,11,12,13,14,15,16,17,18,19,20,21,22,23,24,25,26,27,28,29,30,31,32,33,34,35,36,37,38,39,40,41,42,43,44,45,46,47,48,49,50],'marks':[20,22,23,24,25,26,27,12,13,15,23,24,23,21,12,13,14,15,30,24,25,26,27,28,29,30,22,22,22,22,23,23,23,23,23,23,24,24,24,25,26,26,27,27,27,27,27,26,27,23]})\n",
        "print(df.mean())\n",
        "print(df.std())\n",
        "print(df.min())\n",
        "print(df.max())"
      ],
      "execution_count": null,
      "outputs": [
        {
          "output_type": "stream",
          "text": [
            "roll number    25.50\n",
            "marks          23.14\n",
            "dtype: float64\n",
            "roll number    14.577380\n",
            "marks           4.558061\n",
            "dtype: float64\n",
            "roll number     1\n",
            "marks          12\n",
            "dtype: int64\n",
            "roll number    50\n",
            "marks          30\n",
            "dtype: int64\n"
          ],
          "name": "stdout"
        }
      ]
    },
    {
      "cell_type": "code",
      "metadata": {
        "id": "kIkRCXYOLIL0",
        "colab_type": "code",
        "colab": {
          "base_uri": "https://localhost:8080/",
          "height": 555
        },
        "outputId": "7675dc79-2eb1-463b-f246-e48572f561a9"
      },
      "source": [
        "import pandas as pd\n",
        "df = pd.read_csv('movie_metadata.csv')\n",
        "seventh_movie = df.iloc[3]\n",
        "print(\"Details of the seventh movie:\")\n",
        "print(seventh_movie)"
      ],
      "execution_count": null,
      "outputs": [
        {
          "output_type": "stream",
          "text": [
            "Details of the seventh movie:\n",
            "color                                                                    Color\n",
            "director_name                                                Christopher Nolan\n",
            "num_critic_for_reviews                                                     813\n",
            "duration                                                                   164\n",
            "director_facebook_likes                                                  22000\n",
            "actor_3_facebook_likes                                                   23000\n",
            "actor_2_name                                                    Christian Bale\n",
            "actor_1_facebook_likes                                                   27000\n",
            "gross                                                              4.48131e+08\n",
            "genres                                                         Action|Thriller\n",
            "actor_1_name                                                         Tom Hardy\n",
            "movie_title                                             The Dark Knight Rises \n",
            "num_voted_users                                                        1144337\n",
            "cast_total_facebook_likes                                               106759\n",
            "actor_3_name                                              Joseph Gordon-Levitt\n",
            "facenumber_in_poster                                                         0\n",
            "plot_keywords                deception|imprisonment|lawlessness|police offi...\n",
            "movie_imdb_link              http://www.imdb.com/title/tt1345836/?ref_=fn_t...\n",
            "num_user_for_reviews                                                      2701\n",
            "language                                                               English\n",
            "country                                                                    USA\n",
            "content_rating                                                           PG-13\n",
            "budget                                                                 2.5e+08\n",
            "title_year                                                                2012\n",
            "actor_2_facebook_likes                                                   23000\n",
            "imdb_score                                                                 8.5\n",
            "aspect_ratio                                                              2.35\n",
            "movie_facebook_likes                                                    164000\n",
            "Unnamed: 28                                                                NaN\n",
            "Name: 3, dtype: object\n"
          ],
          "name": "stdout"
        }
      ]
    },
    {
      "cell_type": "markdown",
      "metadata": {
        "id": "4eKwc0Y0LRc2",
        "colab_type": "text"
      },
      "source": [
        "#Write a Pandas program to sort the DataFrame based on title_year from dataset of movie_metadata.csv for any particular three fields"
      ]
    },
    {
      "cell_type": "code",
      "metadata": {
        "id": "Eo52G-z9LLMk",
        "colab_type": "code",
        "colab": {
          "base_uri": "https://localhost:8080/",
          "height": 277
        },
        "outputId": "7143fd26-6f9c-4b49-fc80-c4ad753d20ee"
      },
      "source": [
        "import pandas as pd\n",
        "df = pd.read_csv('movie_metadata.csv')\n",
        "result = df[['title_year']]\n",
        "print(\"Details of title and genres:\")\n",
        "print(result.sort_values('title_year'))"
      ],
      "execution_count": null,
      "outputs": [
        {
          "output_type": "stream",
          "text": [
            "Details of title and genres:\n",
            "      title_year\n",
            "4810      1916.0\n",
            "4958      1920.0\n",
            "4885      1925.0\n",
            "2734      1927.0\n",
            "4812      1929.0\n",
            "...          ...\n",
            "4798         NaN\n",
            "4803         NaN\n",
            "4819         NaN\n",
            "4869         NaN\n",
            "5039         NaN\n",
            "\n",
            "[5043 rows x 1 columns]\n"
          ],
          "name": "stdout"
        }
      ]
    },
    {
      "cell_type": "markdown",
      "metadata": {
        "id": "jEZS1WNyLYkH",
        "colab_type": "text"
      },
      "source": [
        "#Write a Pandas program to sort the DataFrame based on country and language from dataset of movie_metadata.csv"
      ]
    },
    {
      "cell_type": "code",
      "metadata": {
        "id": "5OLaARhDLXL5",
        "colab_type": "code",
        "colab": {
          "base_uri": "https://localhost:8080/",
          "height": 520
        },
        "outputId": "888bf65e-1e32-4065-a99b-53d6e1f592dc"
      },
      "source": [
        "import pandas as pd\n",
        "df = pd.read_csv('movie_metadata.csv')\n",
        "# Create a smaller dataframe\n",
        "small_df = df[['country','language']]\n",
        "print(\"DataFrame based on country and language\")\n",
        "print(small_df.sort_values('country'))\n",
        "print(small_df.sort_values('language'))"
      ],
      "execution_count": null,
      "outputs": [
        {
          "output_type": "stream",
          "text": [
            "DataFrame based on country and language\n",
            "          country language\n",
            "4735  Afghanistan     Dari\n",
            "4450    Argentina  Spanish\n",
            "4666    Argentina  Spanish\n",
            "4415    Argentina  Spanish\n",
            "4000    Argentina  Spanish\n",
            "...           ...      ...\n",
            "4             NaN      NaN\n",
            "279           NaN      NaN\n",
            "2370          NaN  English\n",
            "3397          NaN  English\n",
            "4021          NaN  English\n",
            "\n",
            "[5043 rows x 2 columns]\n",
            "        country    language\n",
            "5031    English           8\n",
            "3504  Australia  Aboriginal\n",
            "377          UK  Aboriginal\n",
            "4393     France      Arabic\n",
            "4580    Germany      Arabic\n",
            "...         ...         ...\n",
            "4409        USA         NaN\n",
            "4630        USA         NaN\n",
            "4810        USA         NaN\n",
            "4885        USA         NaN\n",
            "4958        USA         NaN\n",
            "\n",
            "[5043 rows x 2 columns]\n"
          ],
          "name": "stdout"
        }
      ]
    },
    {
      "cell_type": "markdown",
      "metadata": {
        "id": "cnGTlysDLkDW",
        "colab_type": "text"
      },
      "source": [
        "#Write a NumPy program to create a random 4x4 array and extract the 2nd and 3rd rows of the array and store them into a variable"
      ]
    },
    {
      "cell_type": "code",
      "metadata": {
        "id": "EWueCIkgLgVT",
        "colab_type": "code",
        "colab": {
          "base_uri": "https://localhost:8080/",
          "height": 139
        },
        "outputId": "0c9e429c-c441-4d35-ea15-9efcf8e9fe60"
      },
      "source": [
        "import numpy as np\n",
        "x = np.random.random((4,4))\n",
        "print(\"Original Array:\")\n",
        "print(x) \n",
        "y = np.array(x[1:3])\n",
        "y"
      ],
      "execution_count": null,
      "outputs": [
        {
          "output_type": "stream",
          "text": [
            "Original Array:\n",
            "[[0.19205275 0.33385891 0.07279445 0.64084907]\n",
            " [0.39086067 0.67571598 0.73518891 0.55025306]\n",
            " [0.51726018 0.08958415 0.97470235 0.72540911]\n",
            " [0.91067927 0.11467734 0.70827591 0.67573534]]\n"
          ],
          "name": "stdout"
        },
        {
          "output_type": "execute_result",
          "data": {
            "text/plain": [
              "array([[0.39086067, 0.67571598, 0.73518891, 0.55025306],\n",
              "       [0.51726018, 0.08958415, 0.97470235, 0.72540911]])"
            ]
          },
          "metadata": {
            "tags": []
          },
          "execution_count": 59
        }
      ]
    },
    {
      "cell_type": "markdown",
      "metadata": {
        "id": "HUO4-9G3Lq9s",
        "colab_type": "text"
      },
      "source": [
        "#Write a NumPy program to create a 10x10 array with random values and find the minimum and maximum values."
      ]
    },
    {
      "cell_type": "code",
      "metadata": {
        "id": "Z179dCygLoET",
        "colab_type": "code",
        "colab": {
          "base_uri": "https://localhost:8080/",
          "height": 589
        },
        "outputId": "37f715b1-4d14-45c3-eb68-45c561f6b8ff"
      },
      "source": [
        "import numpy as np\n",
        "x = np.random.random((10,10))\n",
        "print(\"Original Array:\")\n",
        "print(x) \n",
        "xmin, xmax = x.min(), x.max()\n",
        "print(\"Minimum and Maximum Values:\")\n",
        "print(xmin, xmax)"
      ],
      "execution_count": null,
      "outputs": [
        {
          "output_type": "stream",
          "text": [
            "Original Array:\n",
            "[[1.83598116e-01 9.98110152e-01 5.31002148e-01 8.93913336e-01\n",
            "  7.57961433e-02 5.95543719e-01 9.81619748e-01 3.81743285e-01\n",
            "  4.87909348e-01 8.79942719e-01]\n",
            " [9.88332634e-01 9.57852587e-01 8.46032021e-01 3.43867962e-01\n",
            "  4.05887522e-01 8.66276107e-01 3.27136885e-01 4.73760275e-01\n",
            "  4.28060901e-01 3.00481112e-01]\n",
            " [7.39929300e-01 1.12839187e-01 7.36913183e-01 6.04429209e-01\n",
            "  3.83655838e-01 3.92232323e-01 3.01667140e-01 4.64401881e-01\n",
            "  3.19608460e-01 3.77742630e-01]\n",
            " [6.69548884e-01 2.28362324e-01 2.36006213e-01 6.62824716e-01\n",
            "  4.31036781e-02 1.42393055e-01 6.17605211e-01 2.17918685e-01\n",
            "  3.62294254e-01 5.26271071e-01]\n",
            " [8.76316183e-01 3.45425022e-01 6.03602635e-01 9.71534693e-01\n",
            "  4.60853278e-01 1.76781558e-01 7.54469067e-01 2.23893171e-01\n",
            "  8.65962721e-01 8.53462429e-01]\n",
            " [6.29091839e-04 8.90372283e-01 7.04421582e-02 7.16269646e-01\n",
            "  3.23753347e-01 3.56200822e-01 6.00004715e-01 9.51987017e-03\n",
            "  1.98112649e-01 6.76858209e-01]\n",
            " [8.95492794e-01 5.40797751e-01 7.14717690e-01 5.15991132e-01\n",
            "  5.70864831e-01 7.63275928e-01 2.89758526e-01 6.76111915e-01\n",
            "  7.55283597e-01 9.22241129e-01]\n",
            " [9.33908989e-01 8.39352292e-02 2.05986098e-01 5.21785780e-01\n",
            "  2.90347631e-01 8.31780218e-01 3.05160109e-01 7.16770124e-01\n",
            "  8.08856507e-01 1.10944408e-01]\n",
            " [8.77568399e-01 1.03503943e-01 5.24295409e-01 6.73220078e-02\n",
            "  4.82009696e-01 3.53068739e-01 2.42650958e-01 1.20527088e-01\n",
            "  8.19395300e-01 7.80760835e-01]\n",
            " [9.29965987e-01 6.71100671e-01 7.98850144e-01 5.46864161e-01\n",
            "  8.01096414e-01 2.21508907e-01 3.51836156e-01 4.10178945e-01\n",
            "  7.50737992e-01 5.47823695e-01]]\n",
            "Minimum and Maximum Values:\n",
            "0.0006290918392125588 0.9981101521687205\n"
          ],
          "name": "stdout"
        }
      ]
    },
    {
      "cell_type": "markdown",
      "metadata": {
        "id": "42scp1wSL3gB",
        "colab_type": "text"
      },
      "source": [
        "#Write a NumPy program to generate 8 random integers between 100 and 300"
      ]
    },
    {
      "cell_type": "code",
      "metadata": {
        "id": "o0PpRWx5LybR",
        "colab_type": "code",
        "colab": {
          "base_uri": "https://localhost:8080/",
          "height": 35
        },
        "outputId": "8eff9df4-1f8e-4097-c3a4-3d4071564e4d"
      },
      "source": [
        "import numpy as np\n",
        "x = np.random.randint(low=100, high=300, size=8)\n",
        "print(x)"
      ],
      "execution_count": null,
      "outputs": [
        {
          "output_type": "stream",
          "text": [
            "[134 216 210 115 132 223 207 287]\n"
          ],
          "name": "stdout"
        }
      ]
    },
    {
      "cell_type": "markdown",
      "metadata": {
        "id": "aIPqe0-3L_f9",
        "colab_type": "text"
      },
      "source": [
        "#Write a NumPy program to create a random integer nos of size 20 and sort it."
      ]
    },
    {
      "cell_type": "code",
      "metadata": {
        "id": "z6NRGRsOL7gY",
        "colab_type": "code",
        "colab": {
          "base_uri": "https://localhost:8080/",
          "height": 191
        },
        "outputId": "4dda8c0b-5406-4d8a-e05e-4360cacd6f99"
      },
      "source": [
        "import numpy as np\n",
        "x = np.random.random(20)\n",
        "print(\"Original array:\")\n",
        "print(x)\n",
        "x.sort()\n",
        "print(\"Sorted array:\")\n",
        "print(x)"
      ],
      "execution_count": null,
      "outputs": [
        {
          "output_type": "stream",
          "text": [
            "Original array:\n",
            "[0.67870257 0.28057401 0.45434785 0.07690504 0.41882743 0.20679312\n",
            " 0.67061173 0.32961907 0.92515681 0.05864516 0.93180446 0.93209949\n",
            " 0.41027758 0.72797953 0.67114593 0.22241217 0.62419273 0.25206894\n",
            " 0.88291315 0.89701441]\n",
            "Sorted array:\n",
            "[0.05864516 0.07690504 0.20679312 0.22241217 0.25206894 0.28057401\n",
            " 0.32961907 0.41027758 0.41882743 0.45434785 0.62419273 0.67061173\n",
            " 0.67114593 0.67870257 0.72797953 0.88291315 0.89701441 0.92515681\n",
            " 0.93180446 0.93209949]\n"
          ],
          "name": "stdout"
        }
      ]
    }
  ]
}