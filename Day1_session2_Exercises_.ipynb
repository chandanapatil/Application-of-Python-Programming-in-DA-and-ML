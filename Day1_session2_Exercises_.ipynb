{
  "nbformat": 4,
  "nbformat_minor": 0,
  "metadata": {
    "colab": {
      "name": "Day1 session2 Exercises .ipynb",
      "provenance": [],
      "authorship_tag": "ABX9TyM74OJ29nvrM53kGjYrDXiD",
      "include_colab_link": true
    },
    "kernelspec": {
      "name": "python3",
      "display_name": "Python 3"
    }
  },
  "cells": [
    {
      "cell_type": "markdown",
      "metadata": {
        "id": "view-in-github",
        "colab_type": "text"
      },
      "source": [
        "<a href=\"https://colab.research.google.com/github/chandanapatil/Application-of-Python-Programming-in-DA-and-ML/blob/master/Day1_session2_Exercises_.ipynb\" target=\"_parent\"><img src=\"https://colab.research.google.com/assets/colab-badge.svg\" alt=\"Open In Colab\"/></a>"
      ]
    },
    {
      "cell_type": "code",
      "metadata": {
        "id": "yboosgVhOrGD",
        "colab_type": "code",
        "colab": {}
      },
      "source": [
        ""
      ],
      "execution_count": 0,
      "outputs": []
    },
    {
      "cell_type": "markdown",
      "metadata": {
        "id": "GfiIMJRVOseq",
        "colab_type": "text"
      },
      "source": [
        "Write a program to print the triangle "
      ]
    },
    {
      "cell_type": "code",
      "metadata": {
        "id": "-7C2juTdOzzl",
        "colab_type": "code",
        "colab": {
          "base_uri": "https://localhost:8080/",
          "height": 101
        },
        "outputId": "a8e9c8b9-ea57-4bc8-b90a-0d91e351d283"
      },
      "source": [
        "n=int(input('Enter the value of n '))\n",
        "num=1\n",
        "for i in range(1,n+1):\n",
        "  num=i\n",
        "  for j in range(i):\n",
        "    print(num,end=\" \")\n",
        "    num=num+1\n",
        "  print()\n"
      ],
      "execution_count": 1,
      "outputs": [
        {
          "output_type": "stream",
          "text": [
            "Enter the value of n 4\n",
            "1 \n",
            "2 3 \n",
            "3 4 5 \n",
            "4 5 6 7 \n"
          ],
          "name": "stdout"
        }
      ]
    },
    {
      "cell_type": "markdown",
      "metadata": {
        "id": "rKjY2t21SAoQ",
        "colab_type": "text"
      },
      "source": [
        ""
      ]
    },
    {
      "cell_type": "code",
      "metadata": {
        "id": "A6dKyRMMRqrt",
        "colab_type": "code",
        "colab": {
          "base_uri": "https://localhost:8080/",
          "height": 118
        },
        "outputId": "5c54fd88-b339-433e-fc13-da664afcede4"
      },
      "source": [
        "def pyramid(n):\n",
        "  num =0\n",
        "  for i in range(0,n+1):\n",
        "    for j in range(0,i):\n",
        "      print(\"*\",end=\" \")\n",
        "    print(\"\\r\")\n",
        "n = int(input(\"Enter the number\"))\n",
        "pyramid(n)"
      ],
      "execution_count": 6,
      "outputs": [
        {
          "output_type": "stream",
          "text": [
            "Enter the number4\n",
            "\n",
            "* \n",
            "* * \n",
            "* * * \n",
            "* * * * \n"
          ],
          "name": "stdout"
        }
      ]
    },
    {
      "cell_type": "code",
      "metadata": {
        "id": "_fcls91vPA3f",
        "colab_type": "code",
        "colab": {
          "base_uri": "https://localhost:8080/",
          "height": 134
        },
        "outputId": "d372eaa9-2940-47ff-f8f9-a513ae4fdb4e"
      },
      "source": [
        "n=int(input('Enter the value of n: '))\n",
        "for i in range(n+1,0,-1):\n",
        "  num=i\n",
        "  for j in range(i,n+1):\n",
        "    print(num,end=\" \")\n",
        "    num+=1\n",
        "  print()"
      ],
      "execution_count": 2,
      "outputs": [
        {
          "output_type": "stream",
          "text": [
            "Enter the value of n: 5\n",
            "\n",
            "5 \n",
            "4 5 \n",
            "3 4 5 \n",
            "2 3 4 5 \n",
            "1 2 3 4 5 \n"
          ],
          "name": "stdout"
        }
      ]
    },
    {
      "cell_type": "code",
      "metadata": {
        "id": "qL6T34LvPvLL",
        "colab_type": "code",
        "colab": {
          "base_uri": "https://localhost:8080/",
          "height": 118
        },
        "outputId": "a4e7021e-7fdb-4f40-a473-08632b564c9b"
      },
      "source": [
        "n=int(input('Enter the value of n '))\n",
        "for i in range(n,0,-1):\n",
        "  for j in range(i,0,-1):\n",
        "    print(j,end=\" \")\n",
        "  print()"
      ],
      "execution_count": 5,
      "outputs": [
        {
          "output_type": "stream",
          "text": [
            "Enter the value of n 5\n",
            "5 4 3 2 1 \n",
            "4 3 2 1 \n",
            "3 2 1 \n",
            "2 1 \n",
            "1 \n"
          ],
          "name": "stdout"
        }
      ]
    },
    {
      "cell_type": "code",
      "metadata": {
        "id": "C1PZPTN6RNGJ",
        "colab_type": "code",
        "colab": {}
      },
      "source": [
        ""
      ],
      "execution_count": 0,
      "outputs": []
    },
    {
      "cell_type": "code",
      "metadata": {
        "id": "xRP6a9sZP4Ro",
        "colab_type": "code",
        "colab": {
          "base_uri": "https://localhost:8080/",
          "height": 151
        },
        "outputId": "ab84c1fa-306e-4d0b-ee2b-455bbe8ecaa2"
      },
      "source": [
        "n=int(input('Enter the value of n '))\n",
        "for i in range(1,n+1):\n",
        "  for j in range(i,n+1):\n",
        "    print(j,end=\" \")\n",
        "  print()\n",
        "for i in range(n-1,0,-1):\n",
        "  for j in range(i,n+1):\n",
        "    print(j,end=\" \")\n",
        "  print()"
      ],
      "execution_count": 4,
      "outputs": [
        {
          "output_type": "stream",
          "text": [
            "Enter the value of n 4\n",
            "1 2 3 4 \n",
            "2 3 4 \n",
            "3 4 \n",
            "4 \n",
            "3 4 \n",
            "2 3 4 \n",
            "1 2 3 4 \n"
          ],
          "name": "stdout"
        }
      ]
    },
    {
      "cell_type": "code",
      "metadata": {
        "id": "Mi4LKl-_QtD4",
        "colab_type": "code",
        "colab": {}
      },
      "source": [
        ""
      ],
      "execution_count": 0,
      "outputs": []
    },
    {
      "cell_type": "markdown",
      "metadata": {
        "id": "o9jn3-hMSCdC",
        "colab_type": "text"
      },
      "source": [
        "Find the length of a string without using len functions\n",
        "\n"
      ]
    },
    {
      "cell_type": "code",
      "metadata": {
        "id": "2SQ6Gtp1SDvV",
        "colab_type": "code",
        "colab": {
          "base_uri": "https://localhost:8080/",
          "height": 50
        },
        "outputId": "d073147e-909c-4464-ade0-c7457e45b18f"
      },
      "source": [
        "def length(s):\n",
        "  c = 0\n",
        "  for i in s:\n",
        "    c=c+1\n",
        "  return c\n",
        "s =str(input(\"Enter the string : \"))\n",
        "print(\"The length of string is : \",length(s))"
      ],
      "execution_count": 7,
      "outputs": [
        {
          "output_type": "stream",
          "text": [
            "Enter the string : college\n",
            "The length of string is :  7\n"
          ],
          "name": "stdout"
        }
      ]
    },
    {
      "cell_type": "markdown",
      "metadata": {
        "id": "YiKjtMImSPLH",
        "colab_type": "text"
      },
      "source": [
        "Find the no of words and characters in a string"
      ]
    },
    {
      "cell_type": "code",
      "metadata": {
        "id": "NWgO4zllSTHO",
        "colab_type": "code",
        "colab": {
          "base_uri": "https://localhost:8080/",
          "height": 67
        },
        "outputId": "d9d956f9-3c3a-41e9-d212-d04b8d7db346"
      },
      "source": [
        "def cou(s):\n",
        "  c=0\n",
        "  a = s.split()\n",
        "  v = len(a)\n",
        "  for i in a:\n",
        "    c = c+len(i)\n",
        "  print(\"word count : \",v)\n",
        "  print(\"character count : \",c)\n",
        "s = str(input(\"Enter the string : \"))\n",
        "cou(s)"
      ],
      "execution_count": 8,
      "outputs": [
        {
          "output_type": "stream",
          "text": [
            "Enter the string : python\n",
            "word count :  1\n",
            "character count :  6\n"
          ],
          "name": "stdout"
        }
      ]
    },
    {
      "cell_type": "markdown",
      "metadata": {
        "id": "Y0jxSrsVScW-",
        "colab_type": "text"
      },
      "source": [
        "Find the no of occurrences of a word in a string"
      ]
    },
    {
      "cell_type": "code",
      "metadata": {
        "id": "lv5pvDekSjYh",
        "colab_type": "code",
        "colab": {
          "base_uri": "https://localhost:8080/",
          "height": 67
        },
        "outputId": "7042837e-11cb-413a-cf66-6f04849e6ea7"
      },
      "source": [
        "def occur(s):\n",
        "  c =0\n",
        "  a = str(input(\"Enter the word : \"))\n",
        "  w = s.split()\n",
        "  for i in range(0,len(w)):\n",
        "    if(a == w[i]):\n",
        "      c = c+1\n",
        "  return c\n",
        "s = str(input(\"Enter the string : \"))\n",
        "print(\"The number of occurances is : \",occur(s))\n"
      ],
      "execution_count": 11,
      "outputs": [
        {
          "output_type": "stream",
          "text": [
            "Enter the string : chandana p p\n",
            "Enter the word : p\n",
            "The number of occurances is :  2\n"
          ],
          "name": "stdout"
        }
      ]
    }
  ]
}